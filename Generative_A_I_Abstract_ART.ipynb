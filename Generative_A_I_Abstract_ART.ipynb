{
  "nbformat": 4,
  "nbformat_minor": 0,
  "metadata": {
    "colab": {
      "provenance": [],
      "gpuType": "T4",
      "authorship_tag": "ABX9TyMOfQZODlkeu5C45tA/qGQb",
      "include_colab_link": true
    },
    "kernelspec": {
      "name": "python3",
      "display_name": "Python 3"
    },
    "language_info": {
      "name": "python"
    },
    "accelerator": "GPU",
    "gpuClass": "standard"
  },
  "cells": [
    {
      "cell_type": "markdown",
      "metadata": {
        "id": "view-in-github",
        "colab_type": "text"
      },
      "source": [
        "<a href=\"https://colab.research.google.com/github/ZacariDigital/Generative-AI-Absract-Art/blob/main/Generative_A_I_Abstract_ART.ipynb\" target=\"_parent\"><img src=\"https://colab.research.google.com/assets/colab-badge.svg\" alt=\"Open In Colab\"/></a>"
      ]
    },
    {
      "cell_type": "code",
      "source": [
        "!git clone https://github.com/openai/CLIP\n",
        "!git clone https://github.com/CompVis/taming-transformers"
      ],
      "metadata": {
        "id": "tWiNVbiTE4bQ",
        "colab": {
          "base_uri": "https://localhost:8080/"
        },
        "outputId": "a7a8a44f-43e9-421f-bae6-dde04029177f"
      },
      "execution_count": null,
      "outputs": [
        {
          "output_type": "stream",
          "name": "stdout",
          "text": [
            "Cloning into 'CLIP'...\n",
            "remote: Enumerating objects: 243, done.\u001b[K\n",
            "remote: Total 243 (delta 0), reused 0 (delta 0), pack-reused 243\u001b[K\n",
            "Receiving objects: 100% (243/243), 8.92 MiB | 2.29 MiB/s, done.\n",
            "Resolving deltas: 100% (123/123), done.\n",
            "Cloning into 'taming-transformers'...\n",
            "remote: Enumerating objects: 1339, done.\u001b[K\n"
          ]
        }
      ]
    },
    {
      "cell_type": "code",
      "source": [
        "##Installing extra libraries\n",
        "!pip install --no-deps ftfy regex tqdm\n",
        "!pip install omegaconf==2.0.0 pytorch-lightning==1.0.8\n",
        "!pip uninstall torchtext --yes\n",
        "!pip install einops\n",
        "!pip install torchvision==1.13.1"
      ],
      "metadata": {
        "id": "WNdJnVQjJPw3"
      },
      "execution_count": null,
      "outputs": []
    },
    {
      "cell_type": "code",
      "source": [
        "!pip install torch==1.13.1\n",
        "\n"
      ],
      "metadata": {
        "id": "EW-eihB_UlSc"
      },
      "execution_count": null,
      "outputs": []
    },
    {
      "cell_type": "code",
      "source": [
        "##importing libaries\n",
        "import numpy as np\n",
        "import torch, os, imageio, pdb, math\n",
        "import torchvision \n",
        "import torchvision.transforms as T\n",
        "import torchvision.transforms.functional as TF\n",
        "\n",
        "import PIL \n",
        "import matplotlib.pyplot as plt \n",
        "\n",
        "import yaml \n",
        "from omegaconf import OmegaConf\n",
        "\n",
        "from CLIP import clip\n",
        "#import warnings\n",
        "#warnings.filterwarnings('ignore')"
      ],
      "metadata": {
        "id": "SbB6Di3SK8ye"
      },
      "execution_count": null,
      "outputs": []
    },
    {
      "cell_type": "code",
      "source": [
        "##Coding Helper functions\n",
        "\n",
        "\n",
        "def show_from_tensor(tensor):\n",
        "  img = tensor.clone()\n",
        "  img = img.mul(255).byte()\n",
        "  img = img.cpu().numpy().transpose(1,2,0)\n",
        "\n",
        "  plt.figure(figsize=(10,7))\n",
        "  plt.axis('off')\n",
        "  plt.imshow(img)\n",
        "  plt.show()\n",
        "\n",
        "\n",
        "def norm_data(data):\n",
        "  return(data.clip(-1,1)+1)/2 ##range between 0 & 1 in the result\n",
        "\n",
        "##Parameters\n",
        "learning_rate = .5\n",
        "batch_size = 1\n",
        "wd = .1\n",
        "noise_factor = .1\n",
        "\n",
        "\n",
        "total_iter=100\n",
        "im_shape = [225, 400, 3] #h,w,channel\n",
        "size1, size2, channels = im_shape\n"
      ],
      "metadata": {
        "id": "1GzqX0c7PbtR"
      },
      "execution_count": null,
      "outputs": []
    },
    {
      "cell_type": "code",
      "source": [
        "## CLIP MODEL ##\n",
        "clipmodel, _ = clip.load('ViT-B/32', jit=False)\n",
        "clipmodel.eval()\n",
        "print(clip.available_models())\n",
        "\n",
        "print(\"Clip model visual input resolution\", clipmodel.visual.input_resolution)\n",
        "device=torch.device(\"cuda:0\")\n",
        "torch.cuda.empty_cache"
      ],
      "metadata": {
        "id": "UT8_NmjKRqj8"
      },
      "execution_count": null,
      "outputs": []
    },
    {
      "cell_type": "code",
      "source": [
        "##Taming Transformer##\n",
        "\n",
        "%cd /content/taming-transformers\n",
        "\n",
        "!mkdir -p models/vqgan_imagenet_f16_16384/checkpoints\n",
        "!mkdir -p models/vqgan_imagenet_f16_16384/configs\n",
        "\n",
        "if len(os.listdir('models/vqgan_imagenet_f16_16384/checkpoints/')) == 0:\n",
        "  !wget 'https://heibox.uni-heidelberg.de/f/867b05fc8c4841768640/?dl=1' -O 'models/vqgan_imagenet_f16_16384/checkpoints/last.ckpt'\n",
        "  !wget 'https://heibox.uni-heidelberg.de/f/274fb24ed38341bfa753/?dl=1' -O 'models/vqgan_imagenet_f16_16384/configs/model.yaml'\n"
      ],
      "metadata": {
        "id": "gf4mF_qJS2_g"
      },
      "execution_count": null,
      "outputs": []
    },
    {
      "cell_type": "code",
      "source": [
        "from taming.models.vqgan import VQModel\n",
        "\n",
        "def load_config(config_path, display=False):\n",
        "  config_data = OmegaConf.load(config_path)\n",
        "  if display:\n",
        "    print(yaml.dump(OmegaConf.to_container(config_data)))\n",
        "  return config_data\n",
        "\n",
        "def load_vqgan(config, chk_path=None):\n",
        "  model = VQModel(**config.model.params)\n",
        "  if chk_path is not None:\n",
        "    state_dict = torch.load(chk_path, map_location=\"cpu\")[\"state_dict\"]\n",
        "    missing, unexpected = model.load_state_dict(state_dict, strict=False)\n",
        "  return model.eval()\n",
        "\n",
        "def generator(x):\n",
        "  x = taming_model.post_quant_conv(x)\n",
        "  x = taming_model.decoder(x)\n",
        "  return x\n",
        "\n",
        "taming_config = load_config(\"./models/vqgan_imagenet_f16_16384/configs/model.yaml\", display=True)\n",
        "taming_model = load_vqgan(taming_config, chk_path=\"./models/vqgan_imagenet_f16_16384/checkpoints/last.ckpt\").to(device)\n",
        "\n"
      ],
      "metadata": {
        "id": "EH7J_12NdFx8"
      },
      "execution_count": null,
      "outputs": []
    },
    {
      "cell_type": "markdown",
      "source": [],
      "metadata": {
        "id": "4hYD6NWqdoOo"
      }
    },
    {
      "cell_type": "code",
      "source": [
        "\n",
        "##Declare the values that we are going to optimize##\n",
        "\n",
        "class Parameters(torch.nn.Module):\n",
        "  def __init__(self):\n",
        "    super(Parameters, self).__init__()\n",
        "    self.data = .5*torch.randn(batch_size, 256, size1//16, size2//16).cuda() #1x256x14x25 (225/16, 400/16)\n",
        "    self.data = torch.nn.Parameter(torch.sin(self.data))\n",
        "\n",
        "  def forward(self):\n",
        "    return self.data\n",
        "\n",
        "def init_params():\n",
        "  params=Parameters().cuda()\n",
        "  optimizer = torch.optim.Adam([{'params':[params.data], 'lr': learning_rate}], weight_decay=wd)\n",
        "  return params, optimizer"
      ],
      "metadata": {
        "id": "2iO-jGFWnOI7"
      },
      "execution_count": null,
      "outputs": []
    },
    {
      "cell_type": "code",
      "source": [
        "## Encoding Prompts \n",
        "\n",
        "normalize = torchvision.transforms.Normalize((0.48145466, 0.4578275, 0.408210732),(0.26862954, 0.26130258, 0.27577711))\n",
        "\n",
        "def encodeText(text):\n",
        "  t=clip.tokenize(text).cuda()\n",
        "  t=clipmodel.encode_text(t).detach().clone()\n",
        "\n",
        "def createEncodings(include, exclude, extras):\n",
        "  include_enc=[]\n",
        "  for text in include:\n",
        "    include_enc.append(encodeText(text))\n",
        "  exclude_enc=encodeText(exclude) if exclude !='' else 0\n",
        "  extras_enc=encodeText(extras) if extras !='' else 0\n",
        "\n",
        "  return include_enc, exclude_enc, extras_enc\n",
        "\n",
        "augTransform = torch.nn.Sequential(\n",
        "    torchvision.transforms.RandomHorizontalFlip(),\n",
        "    torchvision.transforms.RandomAffine(30, (.2,.2), fill=0)\n",
        "\n",
        ").cuda()\n",
        "\n",
        "Params, optimizer = init_params()\n",
        "\n",
        "with torch.no_grad():\n",
        "  print(Params().shape)\n",
        "  img = norm_data(generator(Params()).cpu())\n",
        "  print(\"img dimension\", img.shape)\n",
        "  show_from_tensor(img[0])\n"
      ],
      "metadata": {
        "id": "6MXWa8FTpbLX"
      },
      "execution_count": null,
      "outputs": []
    },
    {
      "cell_type": "code",
      "source": [
        "## crops\n",
        "\n",
        "def create_crops(img, num_crops=30):\n",
        "  p=size1/2\n",
        "  img = torch.nn.functional.pad(img, (p,p,p,p), mode='constant', value=0)\n",
        "\n",
        "  img = augTransforms(img)\n",
        "\n",
        "  crop_set = []\n",
        "  for ch in range(num_crops):\n",
        "    gap1=int(torch.normal(1.0, .5, ()).clip(.2, 1.5) * size1)\n",
        "    gap2=int(torch.normal(1.0, .5, ()).clip(.2, 1.5) * size1)\n",
        "    offsetx = torch.randint(0, int(size1*2-gap1),())\n",
        "    offsety = torch.randint(0, int(size1*2-gap1),())\n",
        "\n",
        "    crop=img[:,:,offsetx:offsetx+gap2, offsety:offsety+gap2]\n",
        "\n",
        "    crop = torch.nn.fuctional.interpolate(crop,(224,224), mode='blinear', align_corners=True)\n",
        "    crop_set.append(crop)\n",
        "\n",
        "  img_crops = torch.cat(crop_set,0)\n",
        "\n",
        "  img_crops = img_crops + noise_factor*torch.radn_like(img_crops, requires_grad=False)\n",
        "\n",
        "  return img_crops\n",
        "\n",
        "\n"
      ],
      "metadata": {
        "id": "RpTD4DuFU9UQ"
      },
      "execution_count": null,
      "outputs": []
    },
    {
      "cell_type": "code",
      "source": [
        "## show current state of generation\n",
        "\n",
        "def showme(Params, show_crop):\n",
        "  with torch.no_grad():\n",
        "    generated = generator(Params())\n",
        "\n",
        "    if (show_crop):\n",
        "      print(\"Augmented cropped example\")\n",
        "      aug_gen = generated.float()\n",
        "      aug_gen = create_crops(aug_gen, num_crops=1)\n",
        "      aug_gen_norm = norm_data(aug_gen[0])\n",
        "      show_from_tensor(aug_gen_norm)\n",
        "\n",
        "      print(\"Generation\")\n",
        "      latest_gen=norm_data(generated.cpu())\n",
        "      show_from_tensor(latest_gen[0])\n",
        "\n",
        "    return (latest_gen[0])\n"
      ],
      "metadata": {
        "id": "UP0t9HQ0XYFI"
      },
      "execution_count": null,
      "outputs": []
    },
    {
      "cell_type": "code",
      "source": [
        "## Optimization Process\n",
        "\n",
        "\n",
        "def optimize_result(Params, prompt):\n",
        "  alpha=1 ##importance to include encodings\n",
        "  beta=.5  ##importance to exclude encodings\n",
        "\n",
        "  out = generator(Params())\n",
        "  out = norm_data(out)\n",
        "  out = create_crops(out)\n",
        "  out = normalize(out)\n",
        "  image_enc=clipmodel.encode_image(out)\n",
        "\n",
        "  ## text encoding w1 & w2\n",
        "  final_enc = w1*prompt + w2*extras_enc\n",
        "  final_text_include_enc = final_enc / final_enc.norm(dim=-1, keepdim=True)\n",
        "  final_text_exclude_enc = exclude_enc\n",
        "\n",
        "  ##calculating the loss\n",
        "  main_loss = torch.cosine_similarity(final_text_include_enc, img_enc, -1)\n",
        "  penalize_loss = torch.cosine.similarity(final_text_exclude_enc, img_enc, -1)\n",
        "\n",
        "  final_loss = -alpha*main_loss + beta*penalize_loss\n",
        "\n",
        "def optimize(Params, optimizer, prompt):\n",
        "  loss = optimize_result(Params, prompt).mean()\n",
        "  optimizer.zero_grad()\n",
        "  loss.backwards()\n",
        "  optimizer.step()\n",
        "  return loss\n",
        "\n",
        "\n",
        "\n"
      ],
      "metadata": {
        "id": "lYd-JwkaYuG9"
      },
      "execution_count": null,
      "outputs": []
    },
    {
      "cell_type": "code",
      "source": [
        "## training loop\n",
        "\n",
        "def training_loop(Params, optimizer, show_crop=False):\n",
        "  res_img=[]\n",
        "  res_z=[]\n",
        "\n",
        "  for prompt in include_enc:\n",
        "    iteration=0\n",
        "    Params, optimizer = init_params()\n",
        "\n",
        "    for it in range(total_iter):\n",
        "      loss = optimize(Params, optimizer, prompt)\n",
        "\n",
        "      if iteration>0 and iteration%(total_iter-1)==0:\n",
        "        new_img = showme(Params, show_crop)\n",
        "        res_img.append(new_img)\n",
        "        res_z.append(Params())\n",
        "        print(\"loss\", loss.items(), \"\\iteration:\", iteration)\n",
        "\n",
        "      \n",
        "      iteration+=1\n",
        "    torch.cuda.empty_cache()\n",
        "  return res_img, res_z\n",
        "\n"
      ],
      "metadata": {
        "id": "Ehmr_Y3YBHtX"
      },
      "execution_count": null,
      "outputs": []
    }
  ]
}